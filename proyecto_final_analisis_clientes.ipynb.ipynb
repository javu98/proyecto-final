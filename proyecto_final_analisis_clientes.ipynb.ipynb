{
 "cells": [
  {
   "cell_type": "markdown",
   "metadata": {},
   "source": [
    "# Proyecto Final de Data Science - Interconnect\n",
    "\n",
    "## Introducción\n",
    "\n",
    "En este proyecto final, continuamos nuestro trabajo con la empresa de telecomunicaciones **Interconnect**, que desea predecir la probabilidad de cancelación de sus clientes. El objetivo es desarrollar un modelo de aprendizaje automático capaz de identificar a los clientes con mayor riesgo de cancelar su contrato. Esto permitirá a la empresa ofrecer promociones y opciones de retención adecuadas, ayudando a reducir la tasa de cancelación y mantener una base de clientes más estable.\n",
    "\n",
    "Después de realizar un análisis exploratorio de datos y plantear preguntas aclaratorias al equipo de liderazgo, contamos ahora con un conjunto claro de pasos a seguir. En este apartado, nos enfocaremos en el desarrollo del código de solución para cumplir con los objetivos del proyecto. \n",
    "\n",
    "### Objetivo\n",
    "\n",
    "Desarrollar y evaluar un modelo de clasificación que prediga con precisión la probabilidad de cancelación de cada cliente, utilizando diferentes enfoques y métricas de evaluación adecuadas para los datos desbalanceados.\n",
    "\n",
    "### Servicios de Interconnect\n",
    "\n",
    "Interconnect ofrece diversos servicios de telecomunicaciones:\n",
    "- **Telefonía fija** con posibilidad de múltiples líneas.\n",
    "- **Internet** mediante conexión DSL o fibra óptica.\n",
    "- Servicios adicionales como **seguridad en Internet** (protección antivirus y bloqueador de sitios maliciosos), **soporte técnico**, **almacenamiento en la nube**, **streaming de TV** y **directorio de películas**.\n",
    "\n",
    "Además, los clientes pueden elegir entre diferentes tipos de contrato (mensual, 1 año o 2 años) y métodos de pago, con opción a recibir facturación electrónica.\n",
    "\n",
    "### Descripción de los Datos\n",
    "\n",
    "Los datos consisten en cuatro archivos que contienen la información relevante de los clientes:\n",
    "1. `contract.csv` - Información sobre el contrato de cada cliente.\n",
    "2. `personal.csv` - Datos personales del cliente.\n",
    "3. `internet.csv` - Información sobre los servicios de Internet contratados.\n",
    "4. `phone.csv` - Información sobre los servicios telefónicos.\n",
    "\n",
    "Cada archivo contiene una columna llamada `customerID`, que representa un identificador único para cada cliente, permitiendo enlazar la información entre los diferentes archivos.\n",
    "\n",
    "### Estructura del Código de Solución\n",
    "\n",
    "A continuación, se presenta la estructura del código y los pasos que seguiremos para desarrollar la solución, desde la preparación inicial de datos hasta el entrenamiento y evaluación de diferentes modelos de clasificación.\n",
    "\n",
    "### Tabla de Contenido\n",
    "\n",
    "- [Inicialización](#inicialización)\n",
    "- [Preprocesamiento de datos](#preprocesamiento-de-datos)\n",
    "- [Análisis exploratorio de datos (EDA)](#análisis-exploratorio-de-datos-eda)\n",
    "- [Entrenamiento y evaluación de modelos](#entrenamiento-y-evaluación-de-modelos)\n",
    "  - [Preparar conjuntos de datos](#preparar-conjuntos-de-datos)\n",
    "  - [Función para evaluar modelos](#función-para-evaluar-modelos)\n",
    "  - [Modelos de regresión logística](#modelos-de-regresión-logística)\n",
    "  - [Modelos de árbol de clasificación](#modelos-de-árbol-de-clasificación)\n",
    "  - [Modelos de bosque aleatorio para clasificación](#modelos-de-bosque-aleatorio-para-clasificación)\n",
    "  - [Modelos CatBoostClassifier](#Modelos-catboostclassifier)\n",
    "- [Conclusiones](#Conclusiones)\n",
    "\n",
    "Este esquema permitirá mantener una estructura organizada en el proyecto y ayudará a los revisores a evaluar cada sección de manera clara.\n",
    "\n"
   ]
  },
  {
   "cell_type": "code",
   "execution_count": 1,
   "metadata": {},
   "outputs": [],
   "source": [
    "# Importamos las librerías necesarias\n",
    "import pandas as pd\n",
    "from pandas.api.types import is_numeric_dtype\n",
    "\n",
    "import matplotlib.pyplot as plt\n",
    "import seaborn as sns\n",
    "\n",
    "# Librerías para machine learning\n",
    "from sklearn.model_selection import train_test_split, GridSearchCV, cross_val_score\n",
    "from sklearn.preprocessing import StandardScaler, LabelEncoder\n",
    "from sklearn.linear_model import LogisticRegression, SGDClassifier\n",
    "from sklearn.calibration import CalibratedClassifierCV\n",
    "from sklearn.tree import DecisionTreeClassifier\n",
    "from sklearn.ensemble import RandomForestClassifier\n",
    "from sklearn.metrics import roc_auc_score, roc_curve, accuracy_score, f1_score\n",
    "from sklearn.model_selection import RandomizedSearchCV\n",
    "\n",
    "from catboost import CatBoostClassifier, Pool\n",
    "from lightgbm import LGBMClassifier\n",
    "\n",
    "# Manejo de advertencias para evitar mensajes en exceso\n",
    "import warnings\n",
    "warnings.filterwarnings(\"ignore\")\n",
    "\n",
    "# Cargar los archivos CSV en DataFrames\n",
    "contract_df = pd.read_csv('/datasets/final_provider/contract.csv')\n",
    "personal_df = pd.read_csv('/datasets/final_provider/personal.csv')\n",
    "internet_df = pd.read_csv('/datasets/final_provider/internet.csv')\n",
    "phone_df = pd.read_csv('/datasets/final_provider/phone.csv')\n"
   ]
  },
  {
   "cell_type": "code",
   "execution_count": 2,
   "metadata": {},
   "outputs": [
    {
     "name": "stdout",
     "output_type": "stream",
     "text": [
      "Contract Data:\n"
     ]
    },
    {
     "data": {
      "text/html": [
       "<div>\n",
       "<style scoped>\n",
       "    .dataframe tbody tr th:only-of-type {\n",
       "        vertical-align: middle;\n",
       "    }\n",
       "\n",
       "    .dataframe tbody tr th {\n",
       "        vertical-align: top;\n",
       "    }\n",
       "\n",
       "    .dataframe thead th {\n",
       "        text-align: right;\n",
       "    }\n",
       "</style>\n",
       "<table border=\"1\" class=\"dataframe\">\n",
       "  <thead>\n",
       "    <tr style=\"text-align: right;\">\n",
       "      <th></th>\n",
       "      <th>customerID</th>\n",
       "      <th>BeginDate</th>\n",
       "      <th>EndDate</th>\n",
       "      <th>Type</th>\n",
       "      <th>PaperlessBilling</th>\n",
       "      <th>PaymentMethod</th>\n",
       "      <th>MonthlyCharges</th>\n",
       "      <th>TotalCharges</th>\n",
       "    </tr>\n",
       "  </thead>\n",
       "  <tbody>\n",
       "    <tr>\n",
       "      <th>0</th>\n",
       "      <td>7590-VHVEG</td>\n",
       "      <td>2020-01-01</td>\n",
       "      <td>No</td>\n",
       "      <td>Month-to-month</td>\n",
       "      <td>Yes</td>\n",
       "      <td>Electronic check</td>\n",
       "      <td>29.85</td>\n",
       "      <td>29.85</td>\n",
       "    </tr>\n",
       "    <tr>\n",
       "      <th>1</th>\n",
       "      <td>5575-GNVDE</td>\n",
       "      <td>2017-04-01</td>\n",
       "      <td>No</td>\n",
       "      <td>One year</td>\n",
       "      <td>No</td>\n",
       "      <td>Mailed check</td>\n",
       "      <td>56.95</td>\n",
       "      <td>1889.5</td>\n",
       "    </tr>\n",
       "    <tr>\n",
       "      <th>2</th>\n",
       "      <td>3668-QPYBK</td>\n",
       "      <td>2019-10-01</td>\n",
       "      <td>2019-12-01 00:00:00</td>\n",
       "      <td>Month-to-month</td>\n",
       "      <td>Yes</td>\n",
       "      <td>Mailed check</td>\n",
       "      <td>53.85</td>\n",
       "      <td>108.15</td>\n",
       "    </tr>\n",
       "    <tr>\n",
       "      <th>3</th>\n",
       "      <td>7795-CFOCW</td>\n",
       "      <td>2016-05-01</td>\n",
       "      <td>No</td>\n",
       "      <td>One year</td>\n",
       "      <td>No</td>\n",
       "      <td>Bank transfer (automatic)</td>\n",
       "      <td>42.30</td>\n",
       "      <td>1840.75</td>\n",
       "    </tr>\n",
       "    <tr>\n",
       "      <th>4</th>\n",
       "      <td>9237-HQITU</td>\n",
       "      <td>2019-09-01</td>\n",
       "      <td>2019-11-01 00:00:00</td>\n",
       "      <td>Month-to-month</td>\n",
       "      <td>Yes</td>\n",
       "      <td>Electronic check</td>\n",
       "      <td>70.70</td>\n",
       "      <td>151.65</td>\n",
       "    </tr>\n",
       "  </tbody>\n",
       "</table>\n",
       "</div>"
      ],
      "text/plain": [
       "   customerID   BeginDate              EndDate            Type  \\\n",
       "0  7590-VHVEG  2020-01-01                   No  Month-to-month   \n",
       "1  5575-GNVDE  2017-04-01                   No        One year   \n",
       "2  3668-QPYBK  2019-10-01  2019-12-01 00:00:00  Month-to-month   \n",
       "3  7795-CFOCW  2016-05-01                   No        One year   \n",
       "4  9237-HQITU  2019-09-01  2019-11-01 00:00:00  Month-to-month   \n",
       "\n",
       "  PaperlessBilling              PaymentMethod  MonthlyCharges TotalCharges  \n",
       "0              Yes           Electronic check           29.85        29.85  \n",
       "1               No               Mailed check           56.95       1889.5  \n",
       "2              Yes               Mailed check           53.85       108.15  \n",
       "3               No  Bank transfer (automatic)           42.30      1840.75  \n",
       "4              Yes           Electronic check           70.70       151.65  "
      ]
     },
     "metadata": {},
     "output_type": "display_data"
    },
    {
     "name": "stdout",
     "output_type": "stream",
     "text": [
      "\n",
      "Personal Data:\n"
     ]
    },
    {
     "data": {
      "text/html": [
       "<div>\n",
       "<style scoped>\n",
       "    .dataframe tbody tr th:only-of-type {\n",
       "        vertical-align: middle;\n",
       "    }\n",
       "\n",
       "    .dataframe tbody tr th {\n",
       "        vertical-align: top;\n",
       "    }\n",
       "\n",
       "    .dataframe thead th {\n",
       "        text-align: right;\n",
       "    }\n",
       "</style>\n",
       "<table border=\"1\" class=\"dataframe\">\n",
       "  <thead>\n",
       "    <tr style=\"text-align: right;\">\n",
       "      <th></th>\n",
       "      <th>customerID</th>\n",
       "      <th>gender</th>\n",
       "      <th>SeniorCitizen</th>\n",
       "      <th>Partner</th>\n",
       "      <th>Dependents</th>\n",
       "    </tr>\n",
       "  </thead>\n",
       "  <tbody>\n",
       "    <tr>\n",
       "      <th>0</th>\n",
       "      <td>7590-VHVEG</td>\n",
       "      <td>Female</td>\n",
       "      <td>0</td>\n",
       "      <td>Yes</td>\n",
       "      <td>No</td>\n",
       "    </tr>\n",
       "    <tr>\n",
       "      <th>1</th>\n",
       "      <td>5575-GNVDE</td>\n",
       "      <td>Male</td>\n",
       "      <td>0</td>\n",
       "      <td>No</td>\n",
       "      <td>No</td>\n",
       "    </tr>\n",
       "    <tr>\n",
       "      <th>2</th>\n",
       "      <td>3668-QPYBK</td>\n",
       "      <td>Male</td>\n",
       "      <td>0</td>\n",
       "      <td>No</td>\n",
       "      <td>No</td>\n",
       "    </tr>\n",
       "    <tr>\n",
       "      <th>3</th>\n",
       "      <td>7795-CFOCW</td>\n",
       "      <td>Male</td>\n",
       "      <td>0</td>\n",
       "      <td>No</td>\n",
       "      <td>No</td>\n",
       "    </tr>\n",
       "    <tr>\n",
       "      <th>4</th>\n",
       "      <td>9237-HQITU</td>\n",
       "      <td>Female</td>\n",
       "      <td>0</td>\n",
       "      <td>No</td>\n",
       "      <td>No</td>\n",
       "    </tr>\n",
       "  </tbody>\n",
       "</table>\n",
       "</div>"
      ],
      "text/plain": [
       "   customerID  gender  SeniorCitizen Partner Dependents\n",
       "0  7590-VHVEG  Female              0     Yes         No\n",
       "1  5575-GNVDE    Male              0      No         No\n",
       "2  3668-QPYBK    Male              0      No         No\n",
       "3  7795-CFOCW    Male              0      No         No\n",
       "4  9237-HQITU  Female              0      No         No"
      ]
     },
     "metadata": {},
     "output_type": "display_data"
    },
    {
     "name": "stdout",
     "output_type": "stream",
     "text": [
      "\n",
      "Internet Data:\n"
     ]
    },
    {
     "data": {
      "text/html": [
       "<div>\n",
       "<style scoped>\n",
       "    .dataframe tbody tr th:only-of-type {\n",
       "        vertical-align: middle;\n",
       "    }\n",
       "\n",
       "    .dataframe tbody tr th {\n",
       "        vertical-align: top;\n",
       "    }\n",
       "\n",
       "    .dataframe thead th {\n",
       "        text-align: right;\n",
       "    }\n",
       "</style>\n",
       "<table border=\"1\" class=\"dataframe\">\n",
       "  <thead>\n",
       "    <tr style=\"text-align: right;\">\n",
       "      <th></th>\n",
       "      <th>customerID</th>\n",
       "      <th>InternetService</th>\n",
       "      <th>OnlineSecurity</th>\n",
       "      <th>OnlineBackup</th>\n",
       "      <th>DeviceProtection</th>\n",
       "      <th>TechSupport</th>\n",
       "      <th>StreamingTV</th>\n",
       "      <th>StreamingMovies</th>\n",
       "    </tr>\n",
       "  </thead>\n",
       "  <tbody>\n",
       "    <tr>\n",
       "      <th>0</th>\n",
       "      <td>7590-VHVEG</td>\n",
       "      <td>DSL</td>\n",
       "      <td>No</td>\n",
       "      <td>Yes</td>\n",
       "      <td>No</td>\n",
       "      <td>No</td>\n",
       "      <td>No</td>\n",
       "      <td>No</td>\n",
       "    </tr>\n",
       "    <tr>\n",
       "      <th>1</th>\n",
       "      <td>5575-GNVDE</td>\n",
       "      <td>DSL</td>\n",
       "      <td>Yes</td>\n",
       "      <td>No</td>\n",
       "      <td>Yes</td>\n",
       "      <td>No</td>\n",
       "      <td>No</td>\n",
       "      <td>No</td>\n",
       "    </tr>\n",
       "    <tr>\n",
       "      <th>2</th>\n",
       "      <td>3668-QPYBK</td>\n",
       "      <td>DSL</td>\n",
       "      <td>Yes</td>\n",
       "      <td>Yes</td>\n",
       "      <td>No</td>\n",
       "      <td>No</td>\n",
       "      <td>No</td>\n",
       "      <td>No</td>\n",
       "    </tr>\n",
       "    <tr>\n",
       "      <th>3</th>\n",
       "      <td>7795-CFOCW</td>\n",
       "      <td>DSL</td>\n",
       "      <td>Yes</td>\n",
       "      <td>No</td>\n",
       "      <td>Yes</td>\n",
       "      <td>Yes</td>\n",
       "      <td>No</td>\n",
       "      <td>No</td>\n",
       "    </tr>\n",
       "    <tr>\n",
       "      <th>4</th>\n",
       "      <td>9237-HQITU</td>\n",
       "      <td>Fiber optic</td>\n",
       "      <td>No</td>\n",
       "      <td>No</td>\n",
       "      <td>No</td>\n",
       "      <td>No</td>\n",
       "      <td>No</td>\n",
       "      <td>No</td>\n",
       "    </tr>\n",
       "  </tbody>\n",
       "</table>\n",
       "</div>"
      ],
      "text/plain": [
       "   customerID InternetService OnlineSecurity OnlineBackup DeviceProtection  \\\n",
       "0  7590-VHVEG             DSL             No          Yes               No   \n",
       "1  5575-GNVDE             DSL            Yes           No              Yes   \n",
       "2  3668-QPYBK             DSL            Yes          Yes               No   \n",
       "3  7795-CFOCW             DSL            Yes           No              Yes   \n",
       "4  9237-HQITU     Fiber optic             No           No               No   \n",
       "\n",
       "  TechSupport StreamingTV StreamingMovies  \n",
       "0          No          No              No  \n",
       "1          No          No              No  \n",
       "2          No          No              No  \n",
       "3         Yes          No              No  \n",
       "4          No          No              No  "
      ]
     },
     "metadata": {},
     "output_type": "display_data"
    },
    {
     "name": "stdout",
     "output_type": "stream",
     "text": [
      "\n",
      "Phone Data:\n"
     ]
    },
    {
     "data": {
      "text/html": [
       "<div>\n",
       "<style scoped>\n",
       "    .dataframe tbody tr th:only-of-type {\n",
       "        vertical-align: middle;\n",
       "    }\n",
       "\n",
       "    .dataframe tbody tr th {\n",
       "        vertical-align: top;\n",
       "    }\n",
       "\n",
       "    .dataframe thead th {\n",
       "        text-align: right;\n",
       "    }\n",
       "</style>\n",
       "<table border=\"1\" class=\"dataframe\">\n",
       "  <thead>\n",
       "    <tr style=\"text-align: right;\">\n",
       "      <th></th>\n",
       "      <th>customerID</th>\n",
       "      <th>MultipleLines</th>\n",
       "    </tr>\n",
       "  </thead>\n",
       "  <tbody>\n",
       "    <tr>\n",
       "      <th>0</th>\n",
       "      <td>5575-GNVDE</td>\n",
       "      <td>No</td>\n",
       "    </tr>\n",
       "    <tr>\n",
       "      <th>1</th>\n",
       "      <td>3668-QPYBK</td>\n",
       "      <td>No</td>\n",
       "    </tr>\n",
       "    <tr>\n",
       "      <th>2</th>\n",
       "      <td>9237-HQITU</td>\n",
       "      <td>No</td>\n",
       "    </tr>\n",
       "    <tr>\n",
       "      <th>3</th>\n",
       "      <td>9305-CDSKC</td>\n",
       "      <td>Yes</td>\n",
       "    </tr>\n",
       "    <tr>\n",
       "      <th>4</th>\n",
       "      <td>1452-KIOVK</td>\n",
       "      <td>Yes</td>\n",
       "    </tr>\n",
       "  </tbody>\n",
       "</table>\n",
       "</div>"
      ],
      "text/plain": [
       "   customerID MultipleLines\n",
       "0  5575-GNVDE            No\n",
       "1  3668-QPYBK            No\n",
       "2  9237-HQITU            No\n",
       "3  9305-CDSKC           Yes\n",
       "4  1452-KIOVK           Yes"
      ]
     },
     "metadata": {},
     "output_type": "display_data"
    }
   ],
   "source": [
    "# Vista preliminar de cada DataFrame\n",
    "print(\"Contract Data:\")\n",
    "display(contract_df.head())\n",
    "print(\"\\nPersonal Data:\")\n",
    "display(personal_df.head())\n",
    "print(\"\\nInternet Data:\")\n",
    "display(internet_df.head())\n",
    "print(\"\\nPhone Data:\")\n",
    "display(phone_df.head())"
   ]
  },
  {
   "cell_type": "code",
   "execution_count": 3,
   "metadata": {},
   "outputs": [
    {
     "name": "stdout",
     "output_type": "stream",
     "text": [
      "\n",
      "Contract Data Info:\n",
      "<class 'pandas.core.frame.DataFrame'>\n",
      "RangeIndex: 7043 entries, 0 to 7042\n",
      "Data columns (total 8 columns):\n",
      " #   Column            Non-Null Count  Dtype  \n",
      "---  ------            --------------  -----  \n",
      " 0   customerID        7043 non-null   object \n",
      " 1   BeginDate         7043 non-null   object \n",
      " 2   EndDate           7043 non-null   object \n",
      " 3   Type              7043 non-null   object \n",
      " 4   PaperlessBilling  7043 non-null   object \n",
      " 5   PaymentMethod     7043 non-null   object \n",
      " 6   MonthlyCharges    7043 non-null   float64\n",
      " 7   TotalCharges      7043 non-null   object \n",
      "dtypes: float64(1), object(7)\n",
      "memory usage: 440.3+ KB\n",
      "\n",
      "Personal Data Info:\n",
      "<class 'pandas.core.frame.DataFrame'>\n",
      "RangeIndex: 7043 entries, 0 to 7042\n",
      "Data columns (total 5 columns):\n",
      " #   Column         Non-Null Count  Dtype \n",
      "---  ------         --------------  ----- \n",
      " 0   customerID     7043 non-null   object\n",
      " 1   gender         7043 non-null   object\n",
      " 2   SeniorCitizen  7043 non-null   int64 \n",
      " 3   Partner        7043 non-null   object\n",
      " 4   Dependents     7043 non-null   object\n",
      "dtypes: int64(1), object(4)\n",
      "memory usage: 275.2+ KB\n",
      "\n",
      "Internet Data Info:\n",
      "<class 'pandas.core.frame.DataFrame'>\n",
      "RangeIndex: 5517 entries, 0 to 5516\n",
      "Data columns (total 8 columns):\n",
      " #   Column            Non-Null Count  Dtype \n",
      "---  ------            --------------  ----- \n",
      " 0   customerID        5517 non-null   object\n",
      " 1   InternetService   5517 non-null   object\n",
      " 2   OnlineSecurity    5517 non-null   object\n",
      " 3   OnlineBackup      5517 non-null   object\n",
      " 4   DeviceProtection  5517 non-null   object\n",
      " 5   TechSupport       5517 non-null   object\n",
      " 6   StreamingTV       5517 non-null   object\n",
      " 7   StreamingMovies   5517 non-null   object\n",
      "dtypes: object(8)\n",
      "memory usage: 344.9+ KB\n",
      "\n",
      "Phone Data Info:\n",
      "<class 'pandas.core.frame.DataFrame'>\n",
      "RangeIndex: 6361 entries, 0 to 6360\n",
      "Data columns (total 2 columns):\n",
      " #   Column         Non-Null Count  Dtype \n",
      "---  ------         --------------  ----- \n",
      " 0   customerID     6361 non-null   object\n",
      " 1   MultipleLines  6361 non-null   object\n",
      "dtypes: object(2)\n",
      "memory usage: 99.5+ KB\n"
     ]
    }
   ],
   "source": [
    "# Información general de cada DataFrame\n",
    "print(\"\\nContract Data Info:\")\n",
    "contract_df.info()\n",
    "print(\"\\nPersonal Data Info:\")\n",
    "personal_df.info()\n",
    "print(\"\\nInternet Data Info:\")\n",
    "internet_df.info()\n",
    "print(\"\\nPhone Data Info:\")\n",
    "phone_df.info()"
   ]
  },
  {
   "cell_type": "markdown",
   "metadata": {},
   "source": [
    "## Preprocesamiento de datos\n",
    "\n",
    "En esta sección, realizaremos el preprocesamiento de los datos para preparar el conjunto de datos que utilizaremos en el análisis y el desarrollo del modelo de predicción. El objetivo del preprocesamiento es limpiar y estructurar los datos, de manera que estén listos para el entrenamiento del modelo de aprendizaje automático.\n",
    "\n",
    "### Pasos\n",
    "\n",
    "1. **Manejo de valores faltantes**: Identificaremos y trataremos los valores nulos en los archivos, asegurándonos de manejar los valores faltantes de acuerdo con las instrucciones del líder de equipo (por ejemplo, etiquetando ciertos servicios como \"No aplica\" cuando corresponda).\n",
    "2. **Conversión de tipos de datos**: Transformaremos las columnas de fechas y variables categóricas para garantizar que se interpreten correctamente por los algoritmos de machine learning.\n",
    "3. **Creación de la variable objetivo**: Basándonos en la columna `EndDate`, crearemos una variable que indique si un cliente ha cancelado su contrato.\n",
    "4. **Unificación de datos**: Uniremos los datos de los diferentes archivos en un solo DataFrame, utilizando el `customerID` como identificador único para cada cliente.\n",
    "\n",
    "Este proceso de preprocesamiento asegurará que los datos estén en el formato adecuado y optimizados para el análisis y el desarrollo del modelo.\n"
   ]
  },
  {
   "cell_type": "code",
   "execution_count": 4,
   "metadata": {},
   "outputs": [
    {
     "name": "stdout",
     "output_type": "stream",
     "text": [
      "Valores nulos en contract_df:\n",
      "customerID          0\n",
      "BeginDate           0\n",
      "EndDate             0\n",
      "Type                0\n",
      "PaperlessBilling    0\n",
      "PaymentMethod       0\n",
      "MonthlyCharges      0\n",
      "TotalCharges        0\n",
      "dtype: int64\n",
      "\n",
      "Valores nulos en personal_df:\n",
      "customerID       0\n",
      "gender           0\n",
      "SeniorCitizen    0\n",
      "Partner          0\n",
      "Dependents       0\n",
      "dtype: int64\n",
      "\n",
      "Valores nulos en internet_df:\n",
      "customerID          0\n",
      "InternetService     0\n",
      "OnlineSecurity      0\n",
      "OnlineBackup        0\n",
      "DeviceProtection    0\n",
      "TechSupport         0\n",
      "StreamingTV         0\n",
      "StreamingMovies     0\n",
      "dtype: int64\n",
      "\n",
      "Valores nulos en phone_df:\n",
      "customerID       0\n",
      "MultipleLines    0\n",
      "dtype: int64\n"
     ]
    }
   ],
   "source": [
    "# Rellenamos los valores faltantes en los archivos de Internet y Teléfono\n",
    "# Asumimos que los valores faltantes indican que el cliente no tiene el servicio\n",
    "internet_df.fillna(\"No aplica\", inplace=True)\n",
    "phone_df.fillna(\"No aplica\", inplace=True)\n",
    "\n",
    "# Verificamos si quedan valores nulos en cada DataFrame\n",
    "print(\"Valores nulos en contract_df:\")\n",
    "print(contract_df.isnull().sum())\n",
    "print(\"\\nValores nulos en personal_df:\")\n",
    "print(personal_df.isnull().sum())\n",
    "print(\"\\nValores nulos en internet_df:\")\n",
    "print(internet_df.isnull().sum())\n",
    "print(\"\\nValores nulos en phone_df:\")\n",
    "print(phone_df.isnull().sum())\n"
   ]
  },
  {
   "cell_type": "code",
   "execution_count": 5,
   "metadata": {},
   "outputs": [
    {
     "name": "stdout",
     "output_type": "stream",
     "text": [
      "Contract Data Types:\n",
      " customerID                  object\n",
      "BeginDate           datetime64[ns]\n",
      "EndDate             datetime64[ns]\n",
      "Type                      category\n",
      "PaperlessBilling          category\n",
      "PaymentMethod             category\n",
      "MonthlyCharges             float64\n",
      "TotalCharges                object\n",
      "dtype: object\n",
      "\n",
      "Personal Data Types:\n",
      " customerID         object\n",
      "gender           category\n",
      "SeniorCitizen    category\n",
      "Partner          category\n",
      "Dependents       category\n",
      "dtype: object\n",
      "\n",
      "Internet Data Types:\n",
      " customerID            object\n",
      "InternetService     category\n",
      "OnlineSecurity      category\n",
      "OnlineBackup        category\n",
      "DeviceProtection    category\n",
      "TechSupport         category\n",
      "StreamingTV         category\n",
      "StreamingMovies     category\n",
      "dtype: object\n",
      "\n",
      "Phone Data Types:\n",
      " customerID         object\n",
      "MultipleLines    category\n",
      "dtype: object\n"
     ]
    }
   ],
   "source": [
    "# Convertimos las columnas de fecha en el DataFrame 'contract_df' a tipo datetime\n",
    "contract_df['BeginDate'] = pd.to_datetime(contract_df['BeginDate'], errors='coerce')\n",
    "contract_df['EndDate'] = pd.to_datetime(contract_df['EndDate'], errors='coerce')\n",
    "\n",
    "# Convertimos las columnas categóricas a tipo 'category' en todos los DataFrames\n",
    "# En 'contract_df'\n",
    "contract_df['Type'] = contract_df['Type'].astype('category')\n",
    "contract_df['PaperlessBilling'] = contract_df['PaperlessBilling'].astype('category')\n",
    "contract_df['PaymentMethod'] = contract_df['PaymentMethod'].astype('category')\n",
    "\n",
    "# En 'personal_df'\n",
    "personal_df['gender'] = personal_df['gender'].astype('category')\n",
    "personal_df['SeniorCitizen'] = personal_df['SeniorCitizen'].astype('category')\n",
    "personal_df['Partner'] = personal_df['Partner'].astype('category')\n",
    "personal_df['Dependents'] = personal_df['Dependents'].astype('category')\n",
    "\n",
    "# En 'internet_df'\n",
    "internet_df['InternetService'] = internet_df['InternetService'].astype('category')\n",
    "internet_df['OnlineSecurity'] = internet_df['OnlineSecurity'].astype('category')\n",
    "internet_df['OnlineBackup'] = internet_df['OnlineBackup'].astype('category')\n",
    "internet_df['DeviceProtection'] = internet_df['DeviceProtection'].astype('category')\n",
    "internet_df['TechSupport'] = internet_df['TechSupport'].astype('category')\n",
    "internet_df['StreamingTV'] = internet_df['StreamingTV'].astype('category')\n",
    "internet_df['StreamingMovies'] = internet_df['StreamingMovies'].astype('category')\n",
    "\n",
    "# En 'phone_df'\n",
    "phone_df['MultipleLines'] = phone_df['MultipleLines'].astype('category')\n",
    "\n",
    "# Verificamos los cambios en los tipos de datos\n",
    "print(\"Contract Data Types:\\n\", contract_df.dtypes)\n",
    "print(\"\\nPersonal Data Types:\\n\", personal_df.dtypes)\n",
    "print(\"\\nInternet Data Types:\\n\", internet_df.dtypes)\n",
    "print(\"\\nPhone Data Types:\\n\", phone_df.dtypes)\n"
   ]
  },
  {
   "cell_type": "code",
   "execution_count": 6,
   "metadata": {},
   "outputs": [
    {
     "name": "stdout",
     "output_type": "stream",
     "text": [
      "Total de valores nulos en 'TotalCharges' después de la conversión: 11\n"
     ]
    }
   ],
   "source": [
    "# Verificamos si hay valores no numéricos en 'TotalCharges'\n",
    "# Reemplazamos los valores vacíos (si existen) por NaN para luego convertir la columna a float\n",
    "contract_df['TotalCharges'] = pd.to_numeric(contract_df['TotalCharges'], errors='coerce')\n",
    "\n",
    "# Revisamos si quedan valores nulos después de la conversión\n",
    "missing_total_charges = contract_df['TotalCharges'].isnull().sum()\n",
    "print(f\"Total de valores nulos en 'TotalCharges' después de la conversión: {missing_total_charges}\")\n"
   ]
  },
  {
   "cell_type": "code",
   "execution_count": 7,
   "metadata": {},
   "outputs": [
    {
     "name": "stdout",
     "output_type": "stream",
     "text": [
      "Valores nulos en 'TotalCharges' rellenados con la mediana: 1397.475\n",
      "\n",
      "Tipos de datos en contract_df después de la conversión:\n",
      "customerID                  object\n",
      "BeginDate           datetime64[ns]\n",
      "EndDate             datetime64[ns]\n",
      "Type                      category\n",
      "PaperlessBilling          category\n",
      "PaymentMethod             category\n",
      "MonthlyCharges             float64\n",
      "TotalCharges               float64\n",
      "dtype: object\n",
      "\n",
      "Valores nulos en 'TotalCharges' después del reemplazo:\n",
      "0\n"
     ]
    }
   ],
   "source": [
    "# En este caso, reemplazaremos los nulos con la mediana de la columna para no afectar el análisis\n",
    "if missing_total_charges > 0:\n",
    "    median_total_charges = contract_df['TotalCharges'].median()\n",
    "    contract_df['TotalCharges'].fillna(median_total_charges, inplace=True)\n",
    "    print(f\"Valores nulos en 'TotalCharges' rellenados con la mediana: {median_total_charges}\")\n",
    "\n",
    "# Confirmamos que 'TotalCharges' ahora es numérica y que no quedan valores nulos\n",
    "print(\"\\nTipos de datos en contract_df después de la conversión:\")\n",
    "print(contract_df.dtypes)\n",
    "print(\"\\nValores nulos en 'TotalCharges' después del reemplazo:\")\n",
    "print(contract_df['TotalCharges'].isnull().sum())"
   ]
  },
  {
   "cell_type": "code",
   "execution_count": 8,
   "metadata": {},
   "outputs": [
    {
     "name": "stdout",
     "output_type": "stream",
     "text": [
      "Distribución de la variable objetivo 'Churn':\n",
      "0    5174\n",
      "1    1869\n",
      "Name: Churn, dtype: int64\n"
     ]
    }
   ],
   "source": [
    "# Creamos la variable objetivo 'Churn'\n",
    "# Si 'EndDate' tiene un valor, eso indica que el cliente canceló el contrato (Churn = 1)\n",
    "# Si 'EndDate' es nulo, el cliente sigue activo (Churn = 0)\n",
    "contract_df['Churn'] = contract_df['EndDate'].notnull().astype(int)\n",
    "\n",
    "# Verificamos la distribución de la variable objetivo\n",
    "print(\"Distribución de la variable objetivo 'Churn':\")\n",
    "print(contract_df['Churn'].value_counts())\n"
   ]
  },
  {
   "cell_type": "code",
   "execution_count": 9,
   "metadata": {},
   "outputs": [
    {
     "name": "stdout",
     "output_type": "stream",
     "text": [
      "Dimensiones del DataFrame unificado: (7043, 21)\n",
      "Primeras filas del DataFrame unificado:\n"
     ]
    },
    {
     "data": {
      "text/html": [
       "<div>\n",
       "<style scoped>\n",
       "    .dataframe tbody tr th:only-of-type {\n",
       "        vertical-align: middle;\n",
       "    }\n",
       "\n",
       "    .dataframe tbody tr th {\n",
       "        vertical-align: top;\n",
       "    }\n",
       "\n",
       "    .dataframe thead th {\n",
       "        text-align: right;\n",
       "    }\n",
       "</style>\n",
       "<table border=\"1\" class=\"dataframe\">\n",
       "  <thead>\n",
       "    <tr style=\"text-align: right;\">\n",
       "      <th></th>\n",
       "      <th>customerID</th>\n",
       "      <th>BeginDate</th>\n",
       "      <th>EndDate</th>\n",
       "      <th>Type</th>\n",
       "      <th>PaperlessBilling</th>\n",
       "      <th>PaymentMethod</th>\n",
       "      <th>MonthlyCharges</th>\n",
       "      <th>TotalCharges</th>\n",
       "      <th>Churn</th>\n",
       "      <th>gender</th>\n",
       "      <th>...</th>\n",
       "      <th>Partner</th>\n",
       "      <th>Dependents</th>\n",
       "      <th>InternetService</th>\n",
       "      <th>OnlineSecurity</th>\n",
       "      <th>OnlineBackup</th>\n",
       "      <th>DeviceProtection</th>\n",
       "      <th>TechSupport</th>\n",
       "      <th>StreamingTV</th>\n",
       "      <th>StreamingMovies</th>\n",
       "      <th>MultipleLines</th>\n",
       "    </tr>\n",
       "  </thead>\n",
       "  <tbody>\n",
       "    <tr>\n",
       "      <th>0</th>\n",
       "      <td>7590-VHVEG</td>\n",
       "      <td>2020-01-01</td>\n",
       "      <td>NaT</td>\n",
       "      <td>Month-to-month</td>\n",
       "      <td>Yes</td>\n",
       "      <td>Electronic check</td>\n",
       "      <td>29.85</td>\n",
       "      <td>29.85</td>\n",
       "      <td>0</td>\n",
       "      <td>Female</td>\n",
       "      <td>...</td>\n",
       "      <td>Yes</td>\n",
       "      <td>No</td>\n",
       "      <td>DSL</td>\n",
       "      <td>No</td>\n",
       "      <td>Yes</td>\n",
       "      <td>No</td>\n",
       "      <td>No</td>\n",
       "      <td>No</td>\n",
       "      <td>No</td>\n",
       "      <td>NaN</td>\n",
       "    </tr>\n",
       "    <tr>\n",
       "      <th>1</th>\n",
       "      <td>5575-GNVDE</td>\n",
       "      <td>2017-04-01</td>\n",
       "      <td>NaT</td>\n",
       "      <td>One year</td>\n",
       "      <td>No</td>\n",
       "      <td>Mailed check</td>\n",
       "      <td>56.95</td>\n",
       "      <td>1889.50</td>\n",
       "      <td>0</td>\n",
       "      <td>Male</td>\n",
       "      <td>...</td>\n",
       "      <td>No</td>\n",
       "      <td>No</td>\n",
       "      <td>DSL</td>\n",
       "      <td>Yes</td>\n",
       "      <td>No</td>\n",
       "      <td>Yes</td>\n",
       "      <td>No</td>\n",
       "      <td>No</td>\n",
       "      <td>No</td>\n",
       "      <td>No</td>\n",
       "    </tr>\n",
       "    <tr>\n",
       "      <th>2</th>\n",
       "      <td>3668-QPYBK</td>\n",
       "      <td>2019-10-01</td>\n",
       "      <td>2019-12-01</td>\n",
       "      <td>Month-to-month</td>\n",
       "      <td>Yes</td>\n",
       "      <td>Mailed check</td>\n",
       "      <td>53.85</td>\n",
       "      <td>108.15</td>\n",
       "      <td>1</td>\n",
       "      <td>Male</td>\n",
       "      <td>...</td>\n",
       "      <td>No</td>\n",
       "      <td>No</td>\n",
       "      <td>DSL</td>\n",
       "      <td>Yes</td>\n",
       "      <td>Yes</td>\n",
       "      <td>No</td>\n",
       "      <td>No</td>\n",
       "      <td>No</td>\n",
       "      <td>No</td>\n",
       "      <td>No</td>\n",
       "    </tr>\n",
       "    <tr>\n",
       "      <th>3</th>\n",
       "      <td>7795-CFOCW</td>\n",
       "      <td>2016-05-01</td>\n",
       "      <td>NaT</td>\n",
       "      <td>One year</td>\n",
       "      <td>No</td>\n",
       "      <td>Bank transfer (automatic)</td>\n",
       "      <td>42.30</td>\n",
       "      <td>1840.75</td>\n",
       "      <td>0</td>\n",
       "      <td>Male</td>\n",
       "      <td>...</td>\n",
       "      <td>No</td>\n",
       "      <td>No</td>\n",
       "      <td>DSL</td>\n",
       "      <td>Yes</td>\n",
       "      <td>No</td>\n",
       "      <td>Yes</td>\n",
       "      <td>Yes</td>\n",
       "      <td>No</td>\n",
       "      <td>No</td>\n",
       "      <td>NaN</td>\n",
       "    </tr>\n",
       "    <tr>\n",
       "      <th>4</th>\n",
       "      <td>9237-HQITU</td>\n",
       "      <td>2019-09-01</td>\n",
       "      <td>2019-11-01</td>\n",
       "      <td>Month-to-month</td>\n",
       "      <td>Yes</td>\n",
       "      <td>Electronic check</td>\n",
       "      <td>70.70</td>\n",
       "      <td>151.65</td>\n",
       "      <td>1</td>\n",
       "      <td>Female</td>\n",
       "      <td>...</td>\n",
       "      <td>No</td>\n",
       "      <td>No</td>\n",
       "      <td>Fiber optic</td>\n",
       "      <td>No</td>\n",
       "      <td>No</td>\n",
       "      <td>No</td>\n",
       "      <td>No</td>\n",
       "      <td>No</td>\n",
       "      <td>No</td>\n",
       "      <td>No</td>\n",
       "    </tr>\n",
       "  </tbody>\n",
       "</table>\n",
       "<p>5 rows × 21 columns</p>\n",
       "</div>"
      ],
      "text/plain": [
       "   customerID  BeginDate    EndDate            Type PaperlessBilling  \\\n",
       "0  7590-VHVEG 2020-01-01        NaT  Month-to-month              Yes   \n",
       "1  5575-GNVDE 2017-04-01        NaT        One year               No   \n",
       "2  3668-QPYBK 2019-10-01 2019-12-01  Month-to-month              Yes   \n",
       "3  7795-CFOCW 2016-05-01        NaT        One year               No   \n",
       "4  9237-HQITU 2019-09-01 2019-11-01  Month-to-month              Yes   \n",
       "\n",
       "               PaymentMethod  MonthlyCharges  TotalCharges  Churn  gender  \\\n",
       "0           Electronic check           29.85         29.85      0  Female   \n",
       "1               Mailed check           56.95       1889.50      0    Male   \n",
       "2               Mailed check           53.85        108.15      1    Male   \n",
       "3  Bank transfer (automatic)           42.30       1840.75      0    Male   \n",
       "4           Electronic check           70.70        151.65      1  Female   \n",
       "\n",
       "   ... Partner Dependents InternetService OnlineSecurity OnlineBackup  \\\n",
       "0  ...     Yes         No             DSL             No          Yes   \n",
       "1  ...      No         No             DSL            Yes           No   \n",
       "2  ...      No         No             DSL            Yes          Yes   \n",
       "3  ...      No         No             DSL            Yes           No   \n",
       "4  ...      No         No     Fiber optic             No           No   \n",
       "\n",
       "  DeviceProtection TechSupport StreamingTV StreamingMovies MultipleLines  \n",
       "0               No          No          No              No           NaN  \n",
       "1              Yes          No          No              No            No  \n",
       "2               No          No          No              No            No  \n",
       "3              Yes         Yes          No              No           NaN  \n",
       "4               No          No          No              No            No  \n",
       "\n",
       "[5 rows x 21 columns]"
      ]
     },
     "metadata": {},
     "output_type": "display_data"
    },
    {
     "name": "stdout",
     "output_type": "stream",
     "text": [
      "\n",
      "Información del DataFrame unificado:\n",
      "<class 'pandas.core.frame.DataFrame'>\n",
      "Int64Index: 7043 entries, 0 to 7042\n",
      "Data columns (total 21 columns):\n",
      " #   Column            Non-Null Count  Dtype         \n",
      "---  ------            --------------  -----         \n",
      " 0   customerID        7043 non-null   object        \n",
      " 1   BeginDate         7043 non-null   datetime64[ns]\n",
      " 2   EndDate           1869 non-null   datetime64[ns]\n",
      " 3   Type              7043 non-null   category      \n",
      " 4   PaperlessBilling  7043 non-null   category      \n",
      " 5   PaymentMethod     7043 non-null   category      \n",
      " 6   MonthlyCharges    7043 non-null   float64       \n",
      " 7   TotalCharges      7043 non-null   float64       \n",
      " 8   Churn             7043 non-null   int64         \n",
      " 9   gender            7043 non-null   category      \n",
      " 10  SeniorCitizen     7043 non-null   category      \n",
      " 11  Partner           7043 non-null   category      \n",
      " 12  Dependents        7043 non-null   category      \n",
      " 13  InternetService   5517 non-null   category      \n",
      " 14  OnlineSecurity    5517 non-null   category      \n",
      " 15  OnlineBackup      5517 non-null   category      \n",
      " 16  DeviceProtection  5517 non-null   category      \n",
      " 17  TechSupport       5517 non-null   category      \n",
      " 18  StreamingTV       5517 non-null   category      \n",
      " 19  StreamingMovies   5517 non-null   category      \n",
      " 20  MultipleLines     6361 non-null   category      \n",
      "dtypes: category(15), datetime64[ns](2), float64(2), int64(1), object(1)\n",
      "memory usage: 490.2+ KB\n"
     ]
    }
   ],
   "source": [
    "# Unificamos los DataFrames en uno solo usando 'customerID' como clave\n",
    "# Empezamos uniendo 'contract_df' y 'personal_df'\n",
    "data_df = pd.merge(contract_df, personal_df, on='customerID', how='left')\n",
    "\n",
    "# Agregamos 'internet_df' a la unificación\n",
    "data_df = pd.merge(data_df, internet_df, on='customerID', how='left')\n",
    "\n",
    "# Agregamos 'phone_df' a la unificación\n",
    "data_df = pd.merge(data_df, phone_df, on='customerID', how='left')\n",
    "\n",
    "# Verificamos la estructura del DataFrame unificado\n",
    "print(\"Dimensiones del DataFrame unificado:\", data_df.shape)\n",
    "print(\"Primeras filas del DataFrame unificado:\")\n",
    "display(data_df.head())\n",
    "print(\"\\nInformación del DataFrame unificado:\")\n",
    "data_df.info()\n"
   ]
  },
  {
   "cell_type": "markdown",
   "metadata": {},
   "source": [
    "## Resultados de la Unificación de Datos\n",
    "\n",
    "La unificación de los datos ha sido completada con éxito, y ahora contamos con un DataFrame consolidado (`data_df`) que incluye toda la información relevante de los clientes. A continuación, se presentan algunos detalles importantes sobre este DataFrame:\n",
    "\n",
    "- **Dimensiones**: El DataFrame unificado tiene 7043 filas y 21 columnas, lo cual confirma que se han conservado todos los registros de los DataFrames originales.\n",
    "- **Columnas y tipos de datos**: Todas las columnas esperadas están presentes, y los tipos de datos han sido ajustados según lo necesario (por ejemplo, fechas en formato `datetime`, categorías en formato `category` y variables numéricas en `float64`).\n",
    "- **Distribución de la variable objetivo**: Se ha creado la variable `Churn`, la cual indica si el cliente ha cancelado el contrato (`1`) o si permanece activo (`0`).\n",
    "\n",
    "Este DataFrame consolidado está listo para el análisis exploratorio de datos (EDA), lo que nos permitirá explorar patrones y relaciones que pueden ser útiles para predecir la cancelación de clientes.\n"
   ]
  },
  {
   "cell_type": "markdown",
   "metadata": {},
   "source": [
    "## Análisis Exploratorio de Datos (EDA)\n",
    "\n",
    "En esta sección, realizaremos un análisis exploratorio de datos (EDA) para comprender mejor la estructura y las características del conjunto de datos unificado. El objetivo del EDA es identificar patrones, tendencias, y relaciones entre las variables que podrían ser útiles para el modelado de la cancelación de clientes.\n",
    "\n",
    "### Pasos del EDA\n",
    "\n",
    "1. **Distribución de la variable objetivo (`Churn`)**: Comenzaremos explorando la distribución de la variable objetivo para entender el balance de clases entre clientes activos y cancelados.\n",
    "2. **Análisis de variables categóricas**: Examinaremos la distribución de las variables categóricas, como el tipo de contrato, método de pago, servicios contratados, entre otros, para identificar patrones relevantes en relación con la cancelación.\n",
    "3. **Análisis de variables numéricas**: Analizaremos las variables numéricas (como `MonthlyCharges` y `TotalCharges`) y sus estadísticas descriptivas para ver su relación con la cancelación de clientes.\n",
    "4. **Correlación entre variables**: Evaluaremos la correlación entre las variables numéricas y la variable objetivo, con el fin de identificar las relaciones más fuertes que podrían ser útiles para el modelo.\n",
    "\n",
    "El EDA nos permitirá identificar características clave que podrían influir en la cancelación de clientes y nos ayudará a definir las mejores variables para nuestro modelo de predicción.\n"
   ]
  },
  {
   "cell_type": "markdown",
   "metadata": {},
   "source": [
    "### Distribución de la variable objetivo (`Churn`)\n",
    "\n",
    "En este primer paso del EDA, analizaremos la distribución de la variable objetivo `Churn` para comprender el balance de clases entre clientes activos (`0`) y clientes que han cancelado el contrato (`1`). Este análisis es fundamental, ya que un desbalance en la variable objetivo puede influir en las métricas de evaluación del modelo y en su desempeño.\n",
    "\n",
    "Si el conjunto de datos está desbalanceado (es decir, si hay significativamente más clientes activos que cancelados o viceversa), es posible que necesitemos considerar técnicas de re-muestreo o métricas de evaluación que tengan en cuenta este desbalance.\n"
   ]
  },
  {
   "cell_type": "code",
   "execution_count": 10,
   "metadata": {},
   "outputs": [
    {
     "data": {
      "image/png": "[encoded data removed]",
      "text/plain": [
       "<Figure size 600x400 with 1 Axes>"
      ]
     },
     "metadata": {},
     "output_type": "display_data"
    },
    {
     "name": "stdout",
     "output_type": "stream",
     "text": [
      "Conteo de cada clase en la variable objetivo 'Churn':\n",
      "0    73.463013\n",
      "1    26.536987\n",
      "Name: Churn, dtype: float64\n"
     ]
    }
   ],
   "source": [
    "# Visualizamos la distribución de la variable objetivo 'Churn'\n",
    "plt.figure(figsize=(6, 4))\n",
    "sns.countplot(data=data_df, x='Churn', palette='viridis')\n",
    "plt.title('Distribución de la variable objetivo (Churn)')\n",
    "plt.xlabel('Churn')\n",
    "plt.ylabel('Número de clientes')\n",
    "plt.xticks([0, 1], ['Activo', 'Cancelado'])\n",
    "plt.show()\n",
    "\n",
    "# Mostramos el conteo de cada clase en 'Churn'\n",
    "print(\"Conteo de cada clase en la variable objetivo 'Churn':\")\n",
    "print(data_df['Churn'].value_counts(normalize=True) * 100)\n"
   ]
  },
  {
   "cell_type": "markdown",
   "metadata": {},
   "source": [
    "### Análisis de variables categóricas\n",
    "\n",
    "En este paso, exploraremos la distribución de las variables categóricas en el conjunto de datos y su relación con la variable objetivo `Churn`. Este análisis nos permitirá identificar patrones y características que podrían estar asociados con una mayor o menor probabilidad de cancelación.\n",
    "\n",
    "Algunas de las variables categóricas que analizaremos incluyen:\n",
    "- **Type** (Tipo de contrato)\n",
    "- **PaperlessBilling** (Facturación sin papel)\n",
    "- **PaymentMethod** (Método de pago)\n",
    "- **InternetService** (Tipo de servicio de Internet)\n",
    "- **MultipleLines** (Líneas telefónicas múltiples)\n",
    "- Entre otras variables de servicios adicionales como `OnlineSecurity`, `TechSupport`, etc.\n",
    "\n",
    "Estas exploraciones iniciales nos ayudarán a identificar características relevantes para el modelo de predicción de cancelación.\n"
   ]
  },
  {
   "cell_type": "code",
   "execution_count": 11,
   "metadata": {},
   "outputs": [
    {
     "data": {
      "image/png": "[encoded data removed]",
      "text/plain": [
       "<Figure size 1500x2000 with 11 Axes>"
      ]
     },
     "metadata": {},
     "output_type": "display_data"
    }
   ],
   "source": [
    "# Lista de variables categóricas a analizar\n",
    "categorical_columns = [\n",
    "    'Type', 'PaperlessBilling', 'PaymentMethod', 'InternetService', \n",
    "    'MultipleLines', 'OnlineSecurity', 'OnlineBackup', 'DeviceProtection', \n",
    "    'TechSupport', 'StreamingTV', 'StreamingMovies'\n",
    "]\n",
    "\n",
    "# Configuración del tamaño de las gráficas\n",
    "plt.figure(figsize=(15, 20))\n",
    "\n",
    "# Gráficos de barras para cada variable categórica con respecto a 'Churn'\n",
    "for i, column in enumerate(categorical_columns, 1):\n",
    "    plt.subplot(4, 3, i)\n",
    "    sns.countplot(data=data_df, x=column, hue='Churn', palette='viridis')\n",
    "    plt.title(f\"Distribución de {column} según Churn\")\n",
    "    plt.xlabel(column)\n",
    "    plt.ylabel(\"Número de clientes\")\n",
    "    plt.legend(title='Churn', loc='upper right')\n",
    "\n",
    "plt.tight_layout()\n",
    "plt.show()\n"
   ]
  },
  {
   "cell_type": "markdown",
   "metadata": {},
   "source": [
    "### Análisis de variables numéricas\n",
    "\n",
    "En este paso del EDA, analizaremos las variables numéricas del conjunto de datos y su relación con la variable objetivo `Churn`. Las variables numéricas incluyen:\n",
    "\n",
    "- **MonthlyCharges**: Cargos mensuales que paga el cliente.\n",
    "- **TotalCharges**: Cargos totales acumulados que ha pagado el cliente.\n",
    "\n",
    "Este análisis nos permitirá observar cómo los cargos mensuales y totales pueden estar asociados con la probabilidad de cancelación. Utilizaremos estadísticas descriptivas y visualizaciones para comprender mejor la distribución de estas variables y su relación con `Churn`.\n"
   ]
  },
  {
   "cell_type": "code",
   "execution_count": 12,
   "metadata": {},
   "outputs": [
    {
     "name": "stdout",
     "output_type": "stream",
     "text": [
      "Estadísticas descriptivas de MonthlyCharges y TotalCharges:\n",
      "       MonthlyCharges  TotalCharges\n",
      "count     7043.000000   7043.000000\n",
      "mean        64.761692   2281.916928\n",
      "std         30.090047   2265.270398\n",
      "min         18.250000     18.800000\n",
      "25%         35.500000    402.225000\n",
      "50%         70.350000   1397.475000\n",
      "75%         89.850000   3786.600000\n",
      "max        118.750000   8684.800000\n"
     ]
    },
    {
     "data": {
      "image/png": "[encoded data removed]",
      "text/plain": [
       "<Figure size 1400x600 with 2 Axes>"
      ]
     },
     "metadata": {},
     "output_type": "display_data"
    }
   ],
   "source": [
    "# Estadísticas descriptivas para las variables numéricas\n",
    "print(\"Estadísticas descriptivas de MonthlyCharges y TotalCharges:\")\n",
    "print(data_df[['MonthlyCharges', 'TotalCharges']].describe())\n",
    "\n",
    "# Visualización de la distribución de MonthlyCharges y TotalCharges según Churn\n",
    "plt.figure(figsize=(14, 6))\n",
    "\n",
    "# Distribución de MonthlyCharges\n",
    "plt.subplot(1, 2, 1)\n",
    "sns.boxplot(data=data_df, x='Churn', y='MonthlyCharges', palette='viridis')\n",
    "plt.title(\"Distribución de MonthlyCharges según Churn\")\n",
    "plt.xlabel(\"Churn\")\n",
    "plt.ylabel(\"MonthlyCharges\")\n",
    "\n",
    "# Distribución de TotalCharges\n",
    "plt.subplot(1, 2, 2)\n",
    "sns.boxplot(data=data_df, x='Churn', y='TotalCharges', palette='viridis')\n",
    "plt.title(\"Distribución de TotalCharges según Churn\")\n",
    "plt.xlabel(\"Churn\")\n",
    "plt.ylabel(\"TotalCharges\")\n",
    "\n",
    "plt.tight_layout()\n",
    "plt.show()\n"
   ]
  },
  {
   "cell_type": "markdown",
   "metadata": {},
   "source": [
    "### Correlación entre variables\n",
    "\n",
    "En este paso, analizaremos la correlación entre las variables numéricas en el conjunto de datos y la variable objetivo `Churn`. El análisis de correlación nos permitirá identificar las relaciones más fuertes entre las variables, lo cual puede ser útil para seleccionar las características más relevantes para el modelo.\n",
    "\n",
    "Nos enfocaremos en:\n",
    "- **MonthlyCharges** y **TotalCharges**: Variables numéricas que ya hemos analizado y que pueden tener una relación con `Churn`.\n",
    "- Visualización de un mapa de calor para observar las correlaciones de manera visual.\n",
    "\n",
    "Este análisis nos ayudará a comprender qué variables numéricas están más relacionadas con la probabilidad de cancelación y podrían ser útiles en el modelado.\n"
   ]
  },
  {
   "cell_type": "code",
   "execution_count": 13,
   "metadata": {},
   "outputs": [
    {
     "data": {
      "image/png": "[encoded data removed]",
      "text/plain": [
       "<Figure size 800x600 with 2 Axes>"
      ]
     },
     "metadata": {},
     "output_type": "display_data"
    }
   ],
   "source": [
    "# Calculamos la matriz de correlación\n",
    "correlation_matrix = data_df[['MonthlyCharges', 'TotalCharges', 'Churn']].corr()\n",
    "\n",
    "# Visualización del mapa de calor de correlación\n",
    "plt.figure(figsize=(8, 6))\n",
    "sns.heatmap(correlation_matrix, annot=True, cmap='viridis', fmt='.2f')\n",
    "plt.title(\"Mapa de calor de correlación entre variables numéricas y Churn\")\n",
    "plt.show()\n"
   ]
  },
  {
   "cell_type": "markdown",
   "metadata": {},
   "source": [
    "## Resultados del Análisis Exploratorio de Datos (EDA)\n",
    "\n",
    "A continuación, se presentan los hallazgos clave obtenidos a partir del EDA, los cuales proporcionan información valiosa sobre la estructura y patrones en el conjunto de datos, así como su relación con la variable objetivo `Churn` (cancelación de clientes).\n",
    "\n",
    "### 1. Distribución de la Variable Objetivo (`Churn`)\n",
    "- Aproximadamente el **73.5% de los clientes están activos** (`Churn = 0`), mientras que el **26.5% de los clientes han cancelado** (`Churn = 1`).\n",
    "- Esta distribución muestra un desbalance de clases, que podría requerir atención en el modelado para asegurar que el modelo trate ambas clases de manera adecuada.\n",
    "\n",
    "### 2. Análisis de Variables Categóricas\n",
    "- **Tipo de contrato (`Type`)**: Los clientes con contratos \"Month-to-month\" (mes a mes) presentan una tasa de cancelación significativamente más alta en comparación con los contratos de 1 o 2 años.\n",
    "- **Facturación sin papel (`PaperlessBilling`)**: Los clientes que utilizan facturación sin papel tienden a cancelar con mayor frecuencia.\n",
    "- **Método de pago (`PaymentMethod`)**: Los métodos de pago como \"Electronic check\" están asociados con una mayor tasa de cancelación, mientras que los pagos automáticos (por tarjeta de crédito o transferencia bancaria) parecen tener una menor tasa de cancelación.\n",
    "- **Servicios adicionales**: Los clientes que no contratan servicios adicionales, como `OnlineSecurity`, `TechSupport`, `OnlineBackup`, y `DeviceProtection`, muestran una mayor probabilidad de cancelación. Esto sugiere que los clientes con servicios adicionales tienden a ser más leales.\n",
    "\n",
    "### 3. Análisis de Variables Numéricas\n",
    "- **MonthlyCharges (Cargos mensuales)**: Los clientes que han cancelado el servicio tienden a tener cargos mensuales más altos en comparación con los clientes activos.\n",
    "- **TotalCharges (Cargos totales acumulados)**: Los clientes activos presentan valores más altos de cargos totales acumulados, lo cual es consistente con la idea de que los clientes con relaciones a largo plazo tienden a ser más leales.\n",
    "\n",
    "### 4. Correlación entre Variables\n",
    "- Existe una correlación positiva débil (0.19) entre `MonthlyCharges` y `Churn`, lo que sugiere que los clientes con cargos mensuales altos son ligeramente más propensos a cancelar.\n",
    "- Hay una correlación negativa débil (-0.20) entre `TotalCharges` y `Churn`, lo cual indica que los clientes con un historial de pagos acumulado más alto tienden a mantenerse activos.\n",
    "- La correlación moderada (0.65) entre `MonthlyCharges` y `TotalCharges` refleja que ambos están relacionados, ya que los cargos mensuales se acumulan en el total.\n",
    "\n",
    "### Conclusión del EDA\n",
    "Los resultados del EDA nos proporcionan una comprensión inicial de los factores que podrían influir en la cancelación de clientes. Las variables `MonthlyCharges`, `TotalCharges`, `Type`, `PaymentMethod`, y los servicios adicionales son especialmente relevantes y serán útiles para el desarrollo de un modelo predictivo. Con esta información, estamos listos para proceder con la fase de modelado, donde usaremos estas variables para construir un modelo de predicción de cancelación de clientes.\n"
   ]
  },
  {
   "cell_type": "markdown",
   "metadata": {},
   "source": [
    "## Entrenamiento y evaluación de modelos\n",
    "\n",
    "En esta sección, desarrollaremos un modelo de clasificación para predecir la probabilidad de cancelación de clientes (`Churn`). Basándonos en los resultados del Análisis Exploratorio de Datos (EDA), seleccionaremos las características más relevantes y probaremos varios algoritmos de clasificación para encontrar el que mejor se ajuste a nuestro problema.\n",
    "\n",
    "### Objetivos del Modelado\n",
    "1. **Preparar los conjuntos de datos**: Dividir el conjunto de datos en conjuntos de entrenamiento, validación, y prueba, y estandarizar las variables numéricas para mejorar la estabilidad del modelo.\n",
    "2. **Probar diferentes algoritmos de clasificación**: Entrenaremos y evaluaremos varios modelos, incluyendo:\n",
    "   - Regresión Logística\n",
    "   - Árbol de Clasificación\n",
    "   - Bosque Aleatorio\n",
    "   - CatBoostClassifier\n",
    "3. **Evaluación del modelo**: Usaremos métricas adecuadas como el `f1-score`, `accuracy`, y `roc_auc_score` para evaluar el desempeño de cada modelo, teniendo en cuenta el desbalance en las clases de `Churn`.\n",
    "4. **Selección del mejor modelo**: Compararemos los resultados y seleccionaremos el modelo que mejor se desempeñe en la predicción de `Churn`.\n",
    "\n",
    "Este enfoque nos permitirá identificar el modelo más adecuado para predecir la cancelación de clientes, optimizando el rendimiento y maximizando la precisión en la identificación de clientes con alta probabilidad de cancelar.\n"
   ]
  },
  {
   "cell_type": "markdown",
   "metadata": {},
   "source": [
    "### Preparación de los conjuntos de datos\n",
    "\n",
    "En este paso, prepararemos los datos para el modelado. Realizaremos las siguientes acciones:\n",
    "1. **Dividir el conjunto de datos** en conjuntos de entrenamiento, validación y prueba, asegurando que el modelo tenga datos suficientes para aprender, ajustar y evaluar su rendimiento.\n",
    "2. **Estandarizar las variables numéricas** (`MonthlyCharges` y `TotalCharges`) para asegurar que tengan una escala similar, lo cual es especialmente importante para algoritmos que son sensibles a la escala de los datos.\n",
    "\n",
    "La preparación adecuada de los datos es esencial para maximizar el rendimiento del modelo y minimizar el riesgo de overfitting.\n"
   ]
  },
  {
   "cell_type": "code",
   "execution_count": 14,
   "metadata": {},
   "outputs": [
    {
     "name": "stdout",
     "output_type": "stream",
     "text": [
      "Dimensiones de X_train: (4225, 20)\n",
      "Dimensiones de X_val: (1409, 20)\n",
      "Dimensiones de X_test: (1409, 20)\n",
      "Dimensiones de y_train: (4225,)\n",
      "Dimensiones de y_val: (1409,)\n",
      "Dimensiones de y_test: (1409,)\n"
     ]
    }
   ],
   "source": [
    "# Convertimos las variables categóricas en variables dummy\n",
    "X = pd.get_dummies(data_df.drop(columns=['customerID', 'Churn', 'BeginDate', 'EndDate']), drop_first=True)\n",
    "y = data_df['Churn']\n",
    "\n",
    "# Dividimos en conjunto de entrenamiento (60%), conjunto de validación (20%) y conjunto de prueba (20%)\n",
    "X_train, X_temp, y_train, y_temp = train_test_split(X, y, test_size=0.4, random_state=42, stratify=y)\n",
    "X_val, X_test, y_val, y_test = train_test_split(X_temp, y_temp, test_size=0.5, random_state=42, stratify=y_temp)\n",
    "\n",
    "# Estandarizamos las variables numéricas en los conjuntos de entrenamiento, validación y prueba\n",
    "scaler = StandardScaler()\n",
    "numeric_features = ['MonthlyCharges', 'TotalCharges']\n",
    "\n",
    "X_train[numeric_features] = scaler.fit_transform(X_train[numeric_features])\n",
    "X_val[numeric_features] = scaler.transform(X_val[numeric_features])\n",
    "X_test[numeric_features] = scaler.transform(X_test[numeric_features])\n",
    "\n",
    "# Confirmamos las dimensiones de los conjuntos de datos preparados\n",
    "print(\"Dimensiones de X_train:\", X_train.shape)\n",
    "print(\"Dimensiones de X_val:\", X_val.shape)\n",
    "print(\"Dimensiones de X_test:\", X_test.shape)\n",
    "print(\"Dimensiones de y_train:\", y_train.shape)\n",
    "print(\"Dimensiones de y_val:\", y_val.shape)\n",
    "print(\"Dimensiones de y_test:\", y_test.shape)\n",
    "\n"
   ]
  },
  {
   "cell_type": "markdown",
   "metadata": {},
   "source": [
    "### Prueba de diferentes algoritmos de clasificación\n",
    "\n",
    "En este paso, entrenaremos varios algoritmos de clasificación para predecir la cancelación de clientes (`Churn`). Dado que observamos un desbalance de clases en el análisis exploratorio de datos (EDA), aplicaremos el ajuste de `class_weight='balanced'` en algunos de los modelos que permiten este parámetro, para dar más peso a la clase minoritaria. Esto ayudará a los modelos a tratar ambas clases de manera equilibrada sin necesidad de generar muestras adicionales.\n",
    "\n",
    "#### Modelos de clasificación a probar:\n",
    "1. **Regresión Logística** (con `class_weight='balanced'`)\n",
    "2. **Árbol de Clasificación**\n",
    "3. **Bosque Aleatorio** (con `class_weight='balanced'`)\n",
    "4. **CatBoostClassifier** (que maneja internamente el desbalance de clases)\n",
    "\n",
    "Para cada modelo, mediremos métricas como `accuracy`, `f1-score`, y `roc_auc_score` en el conjunto de validación para comparar su desempeño. Una vez identificado el mejor modelo, lo probaremos en el conjunto de prueba para evaluar su rendimiento final.\n",
    "\n"
   ]
  },
  {
   "cell_type": "code",
   "execution_count": 15,
   "metadata": {},
   "outputs": [
    {
     "name": "stdout",
     "output_type": "stream",
     "text": [
      "Logistic Regression - Accuracy: 0.74, F1 Score: 0.62, ROC AUC: 0.8460874731974476\n",
      "Decision Tree - Accuracy: 0.72, F1 Score: 0.50, ROC AUC: 0.6575189232478235\n",
      "Random Forest - Accuracy: 0.79, F1 Score: 0.55, ROC AUC: 0.8313092562453177\n",
      "CatBoost - Accuracy: 0.81, F1 Score: 0.59, ROC AUC: 0.848403472060761\n",
      "\n",
      "Resultados de los modelos:\n",
      "Logistic Regression: {'Accuracy': 0.7409510290986515, 'F1 Score': 0.617801047120419, 'ROC AUC Score': 0.8460874731974476}\n",
      "Decision Tree: {'Accuracy': 0.7239176721078779, 'F1 Score': 0.49676584734799484, 'ROC AUC Score': 0.6575189232478235}\n",
      "Random Forest: {'Accuracy': 0.7927608232789212, 'F1 Score': 0.5465838509316769, 'ROC AUC Score': 0.8313092562453177}\n",
      "CatBoost: {'Accuracy': 0.8090844570617459, 'F1 Score': 0.5918057663125948, 'ROC AUC Score': 0.848403472060761}\n"
     ]
    }
   ],
   "source": [
    "# Diccionario para almacenar los modelos y sus resultados\n",
    "model_results = {}\n",
    "\n",
    "# Función para entrenar, predecir y almacenar métricas del modelo\n",
    "def evaluate_model(model, model_name):\n",
    "    # Entrenamiento del modelo\n",
    "    model.fit(X_train, y_train)\n",
    "    \n",
    "    # Predicciones en el conjunto de validación\n",
    "    y_val_pred = model.predict(X_val)\n",
    "    y_val_proba = model.predict_proba(X_val)[:, 1] if hasattr(model, \"predict_proba\") else None\n",
    "    \n",
    "    # Cálculo de métricas\n",
    "    accuracy = accuracy_score(y_val, y_val_pred)\n",
    "    f1 = f1_score(y_val, y_val_pred)\n",
    "    roc_auc = roc_auc_score(y_val, y_val_proba) if y_val_proba is not None else \"N/A\"\n",
    "    \n",
    "    # Almacenamos los resultados\n",
    "    model_results[model_name] = {\n",
    "        \"Accuracy\": accuracy,\n",
    "        \"F1 Score\": f1,\n",
    "        \"ROC AUC Score\": roc_auc\n",
    "    }\n",
    "    \n",
    "    print(f\"{model_name} - Accuracy: {accuracy:.2f}, F1 Score: {f1:.2f}, ROC AUC: {roc_auc if roc_auc != 'N/A' else 'N/A'}\")\n",
    "\n",
    "# Probar diferentes algoritmos\n",
    "\n",
    "# Regresión Logística con class_weight\n",
    "evaluate_model(LogisticRegression(max_iter=1000, random_state=42, class_weight='balanced'), \"Logistic Regression\")\n",
    "\n",
    "# Árbol de Clasificación (sin class_weight, ya que DecisionTreeClassifier no lo usa por defecto)\n",
    "evaluate_model(DecisionTreeClassifier(random_state=42), \"Decision Tree\")\n",
    "\n",
    "# Bosque Aleatorio con class_weight\n",
    "evaluate_model(RandomForestClassifier(random_state=42, class_weight='balanced'), \"Random Forest\")\n",
    "\n",
    "# CatBoostClassifier (sin cambios ya que CatBoost maneja internamente el desbalance de clases)\n",
    "evaluate_model(CatBoostClassifier(verbose=0, random_state=42), \"CatBoost\")\n",
    "\n",
    "# Mostramos los resultados de cada modelo\n",
    "print(\"\\nResultados de los modelos:\")\n",
    "for model_name, metrics in model_results.items():\n",
    "    print(f\"{model_name}: {metrics}\")\n"
   ]
  },
  {
   "cell_type": "markdown",
   "metadata": {},
   "source": [
    "## Resultados de los Modelos de Clasificación\n",
    "\n",
    "A continuación, se muestran los resultados de las métricas clave para cada modelo probado. Estas métricas incluyen precisión (`Accuracy`), `F1 Score`, y `ROC AUC Score`, las cuales nos ayudan a evaluar la capacidad de cada modelo para predecir la cancelación de clientes (`Churn`).\n",
    "\n",
    "| Modelo               | Accuracy | F1 Score | ROC AUC Score |\n",
    "|----------------------|----------|----------|---------------|\n",
    "| Logistic Regression  | 0.74     | 0.62     | 0.85          |\n",
    "| Decision Tree        | 0.72     | 0.50     | 0.66          |\n",
    "| Random Forest        | 0.79     | 0.55     | 0.82          |\n",
    "| CatBoostClassifier   | 0.81     | 0.59     | 0.84          |\n",
    "\n",
    "###  Conclusión\n",
    "\n",
    "De los modelos probados, el **Logistic Regression** obtuvo una mejora significativa en `F1 Score` y `ROC AUC Score` tras ajustar el desbalance de clases, lo cual indica que este modelo podría ser el más adecuado para predecir la cancelación de clientes. Su rendimiento en `Accuracy`, `F1 Score`, y `ROC AUC Score` fue comparable o superior al de los otros modelos, sugiriendo una alta capacidad de clasificación y efectividad en el manejo del desbalance.\n",
    "\n",
    "### Próximo Paso\n",
    "\n",
    "Ahora que hemos identificado al **Logistic Regression** con ajuste de desbalance como el mejor modelo para este problema, el siguiente paso será realizar pruebas finales en el conjunto de prueba. Esto nos permitirá evaluar su rendimiento en datos no vistos y confirmar su eficacia en la predicción de la cancelación de clientes (`Churn`). Esta validación final garantizará que el modelo esté listo para su implementación.\n",
    "\n",
    "\n"
   ]
  },
  {
   "cell_type": "markdown",
   "metadata": {},
   "source": [
    "## Pruebas Finales en el Conjunto de Prueba\n",
    "\n",
    "En este paso, evaluaremos el modelo **Logistic Regression** en el conjunto de prueba para medir su rendimiento en datos no vistos. Esto nos permitirá verificar si el modelo generaliza bien y confirmar su eficacia para predecir la cancelación de clientes (`Churn`).\n",
    "\n",
    "Las métricas a evaluar serán:\n",
    "\n",
    "1. **Accuracy**: Para medir la precisión general del modelo.\n",
    "2. **F1 Score**: Para evaluar el equilibrio entre precisión y recall, particularmente importante en problemas de clasificación binaria con posible desbalanceo.\n",
    "3. **ROC AUC Score**: Para analizar la capacidad del modelo de distinguir entre clientes que cancelarán y los que no.\n",
    "\n",
    "Este análisis final garantizará que el modelo esté listo para su implementación en un entorno de producción.\n",
    "\n",
    "\n"
   ]
  },
  {
   "cell_type": "code",
   "execution_count": 16,
   "metadata": {},
   "outputs": [
    {
     "name": "stdout",
     "output_type": "stream",
     "text": [
      "Resultados del modelo Logistic Regression en el conjunto de prueba:\n",
      "Accuracy: 0.74\n",
      "F1 Score: 0.61\n",
      "ROC AUC Score: 0.82\n"
     ]
    }
   ],
   "source": [
    "# Definimos el modelo Logistic Regression con los parámetros ajustados\n",
    "best_logistic_model = LogisticRegression(max_iter=1000, random_state=42, class_weight='balanced')\n",
    "\n",
    "# Entrenamos el modelo con el conjunto de entrenamiento completo\n",
    "best_logistic_model.fit(X_train, y_train)\n",
    "\n",
    "# Realizamos predicciones en el conjunto de prueba\n",
    "y_test_pred = best_logistic_model.predict(X_test)\n",
    "y_test_proba = best_logistic_model.predict_proba(X_test)[:, 1]\n",
    "\n",
    "# Calculamos las métricas\n",
    "test_accuracy = accuracy_score(y_test, y_test_pred)\n",
    "test_f1 = f1_score(y_test, y_test_pred)\n",
    "test_roc_auc = roc_auc_score(y_test, y_test_proba)\n",
    "\n",
    "# Mostramos los resultados\n",
    "print(\"Resultados del modelo Logistic Regression en el conjunto de prueba:\")\n",
    "print(f\"Accuracy: {test_accuracy:.2f}\")\n",
    "print(f\"F1 Score: {test_f1:.2f}\")\n",
    "print(f\"ROC AUC Score: {test_roc_auc:.2f}\")\n",
    "\n"
   ]
  },
  {
   "cell_type": "markdown",
   "metadata": {},
   "source": [
    "##  Informe de Resultados y Conclusiones Finales\n",
    "\n",
    "### Resumen de Resultados\n",
    "El objetivo de este proyecto fue desarrollar un modelo de machine learning que pudiera predecir la probabilidad de cancelación de clientes para la compañía **Interconnect**. Después de probar varios modelos de clasificación, se seleccionó el **Logistic Regression** como el modelo más adecuado debido a su rendimiento consistente y su capacidad de generalización.\n",
    "\n",
    "#### Rendimiento del Modelo en el Conjunto de Prueba\n",
    "\n",
    "| Métrica        | Valor |\n",
    "|----------------|-------|\n",
    "| Accuracy       | 0.74  |\n",
    "| F1 Score       | 0.61  |\n",
    "| ROC AUC Score  | 0.82  |\n",
    "\n",
    "### Conclusiones\n",
    "\n",
    "1. **Eficacia del Modelo:**\n",
    "   - El **Logistic Regression** logró un **ROC AUC Score de 0.82** en el conjunto de prueba, demostrando una capacidad adecuada para distinguir entre clientes que probablemente cancelen y aquellos que permanecerán. Este valor es particularmente útil en problemas de clasificación con desbalance de clases.\n",
    "\n",
    "2. **Consistencia en el Rendimiento:**\n",
    "   - Los resultados obtenidos en el conjunto de prueba fueron consistentes con los valores obtenidos durante la validación. Esto sugiere que el modelo tiene una capacidad robusta para generalizar frente a nuevos datos, lo cual es esencial para su implementación en un entorno real.\n",
    "\n",
    "3. **Aplicabilidad en el Negocio:**\n",
    "   - El modelo puede ser utilizado por el equipo de marketing de **Interconnect** para identificar a los clientes con alta probabilidad de cancelación y ofrecerles incentivos personalizados, como códigos promocionales o planes especiales, con el fin de retenerlos. Esta estrategia puede contribuir a reducir la tasa de cancelación y a mejorar la lealtad de los clientes.\n",
    "\n",
    "### Conclusión General\n",
    "El **Logistic Regression** ha demostrado ser una herramienta confiable y efectiva para predecir la cancelación de clientes en **Interconnect**. Su precisión y capacidad de clasificación lo convierten en una solución adecuada para apoyar estrategias de retención de clientes. La implementación de este modelo en producción permitirá al equipo de marketing tomar decisiones informadas y proactivas para reducir la pérdida de clientes, lo que representa un beneficio significativo para la empresa.\n",
    "\n",
    "\n"
   ]
  }
 ],
 "metadata": {
  "ExecuteTimeLog": [
   {
    "duration": 2825,
    "start_time": "2024-11-12T20:11:28.960Z"
   },
   {
    "duration": 27,
    "start_time": "2024-11-12T20:11:38.379Z"
   },
   {
    "duration": 27,
    "start_time": "2024-11-12T20:11:48.512Z"
   },
   {
    "duration": 35,
    "start_time": "2024-11-12T20:18:41.871Z"
   },
   {
    "duration": 23,
    "start_time": "2024-11-12T20:18:43.276Z"
   },
   {
    "duration": 24,
    "start_time": "2024-11-12T20:18:46.180Z"
   },
   {
    "duration": 16,
    "start_time": "2024-11-12T20:28:28.387Z"
   },
   {
    "duration": 24,
    "start_time": "2024-11-12T20:30:57.337Z"
   },
   {
    "duration": 7,
    "start_time": "2024-11-12T20:36:54.327Z"
   },
   {
    "duration": 6,
    "start_time": "2024-11-12T20:38:27.217Z"
   },
   {
    "duration": 5,
    "start_time": "2024-11-12T20:41:50.239Z"
   },
   {
    "duration": 57,
    "start_time": "2024-11-12T20:43:34.759Z"
   },
   {
    "duration": 47,
    "start_time": "2024-11-12T20:52:59.614Z"
   },
   {
    "duration": 7,
    "start_time": "2024-11-12T20:55:19.341Z"
   },
   {
    "duration": 5,
    "start_time": "2024-11-12T20:56:56.457Z"
   },
   {
    "duration": 96,
    "start_time": "2024-11-12T20:57:42.746Z"
   },
   {
    "duration": 1387,
    "start_time": "2024-11-12T21:02:00.280Z"
   },
   {
    "duration": 409,
    "start_time": "2024-11-12T21:04:49.321Z"
   },
   {
    "duration": 266,
    "start_time": "2024-11-12T21:07:03.631Z"
   },
   {
    "duration": 5,
    "start_time": "2024-11-12T21:20:41.925Z"
   },
   {
    "duration": 31,
    "start_time": "2024-11-12T21:28:03.471Z"
   },
   {
    "duration": 4,
    "start_time": "2024-11-12T21:39:00.385Z"
   },
   {
    "duration": 164,
    "start_time": "2024-11-12T21:39:04.396Z"
   },
   {
    "duration": 38,
    "start_time": "2024-11-12T21:40:04.852Z"
   },
   {
    "duration": 445,
    "start_time": "2024-11-12T21:51:05.846Z"
   },
   {
    "duration": 1061,
    "start_time": "2024-11-12T21:51:23.045Z"
   },
   {
    "duration": 29,
    "start_time": "2024-11-12T21:51:24.108Z"
   },
   {
    "duration": 39,
    "start_time": "2024-11-12T21:51:24.139Z"
   },
   {
    "duration": 15,
    "start_time": "2024-11-12T21:51:24.181Z"
   },
   {
    "duration": 26,
    "start_time": "2024-11-12T21:51:24.198Z"
   },
   {
    "duration": 9,
    "start_time": "2024-11-12T21:51:24.227Z"
   },
   {
    "duration": 32,
    "start_time": "2024-11-12T21:51:24.238Z"
   },
   {
    "duration": 6,
    "start_time": "2024-11-12T21:51:24.272Z"
   },
   {
    "duration": 382,
    "start_time": "2024-11-12T21:51:24.280Z"
   },
   {
    "duration": 101,
    "start_time": "2024-11-12T21:51:24.669Z"
   },
   {
    "duration": 598,
    "start_time": "2024-11-12T21:51:24.772Z"
   },
   {
    "duration": 0,
    "start_time": "2024-11-12T21:51:25.372Z"
   },
   {
    "duration": 0,
    "start_time": "2024-11-12T21:51:25.374Z"
   },
   {
    "duration": 0,
    "start_time": "2024-11-12T21:51:25.375Z"
   },
   {
    "duration": 0,
    "start_time": "2024-11-12T21:51:25.376Z"
   },
   {
    "duration": 0,
    "start_time": "2024-11-12T21:51:25.377Z"
   },
   {
    "duration": 1085,
    "start_time": "2024-11-12T21:51:54.341Z"
   },
   {
    "duration": 27,
    "start_time": "2024-11-12T21:51:55.428Z"
   },
   {
    "duration": 30,
    "start_time": "2024-11-12T21:51:55.458Z"
   },
   {
    "duration": 15,
    "start_time": "2024-11-12T21:51:55.490Z"
   },
   {
    "duration": 23,
    "start_time": "2024-11-12T21:51:55.507Z"
   },
   {
    "duration": 5,
    "start_time": "2024-11-12T21:51:55.531Z"
   },
   {
    "duration": 36,
    "start_time": "2024-11-12T21:51:55.538Z"
   },
   {
    "duration": 5,
    "start_time": "2024-11-12T21:51:55.575Z"
   },
   {
    "duration": 52,
    "start_time": "2024-11-12T21:51:55.582Z"
   },
   {
    "duration": 121,
    "start_time": "2024-11-12T21:51:55.636Z"
   },
   {
    "duration": 1404,
    "start_time": "2024-11-12T21:51:55.759Z"
   },
   {
    "duration": 329,
    "start_time": "2024-11-12T21:51:57.165Z"
   },
   {
    "duration": 340,
    "start_time": "2024-11-12T21:51:57.496Z"
   },
   {
    "duration": 32,
    "start_time": "2024-11-12T21:51:57.838Z"
   },
   {
    "duration": 170,
    "start_time": "2024-11-12T21:51:57.872Z"
   },
   {
    "duration": 0,
    "start_time": "2024-11-12T21:51:58.044Z"
   },
   {
    "duration": 39,
    "start_time": "2024-11-12T21:53:14.416Z"
   },
   {
    "duration": 2307,
    "start_time": "2024-11-12T21:53:19.444Z"
   },
   {
    "duration": 2255,
    "start_time": "2024-11-12T21:54:33.609Z"
   },
   {
    "duration": 1122,
    "start_time": "2024-11-12T22:25:48.581Z"
   },
   {
    "duration": 26,
    "start_time": "2024-11-12T22:25:49.706Z"
   },
   {
    "duration": 43,
    "start_time": "2024-11-12T22:25:49.734Z"
   },
   {
    "duration": 15,
    "start_time": "2024-11-12T22:25:49.779Z"
   },
   {
    "duration": 23,
    "start_time": "2024-11-12T22:25:49.795Z"
   },
   {
    "duration": 5,
    "start_time": "2024-11-12T22:25:49.820Z"
   },
   {
    "duration": 6,
    "start_time": "2024-11-12T22:25:49.827Z"
   },
   {
    "duration": 34,
    "start_time": "2024-11-12T22:25:49.836Z"
   },
   {
    "duration": 54,
    "start_time": "2024-11-12T22:25:49.873Z"
   },
   {
    "duration": 116,
    "start_time": "2024-11-12T22:25:49.930Z"
   },
   {
    "duration": 1375,
    "start_time": "2024-11-12T22:25:50.047Z"
   },
   {
    "duration": 332,
    "start_time": "2024-11-12T22:25:51.424Z"
   },
   {
    "duration": 294,
    "start_time": "2024-11-12T22:25:51.758Z"
   },
   {
    "duration": 40,
    "start_time": "2024-11-12T22:25:52.070Z"
   },
   {
    "duration": 2329,
    "start_time": "2024-11-12T22:25:52.112Z"
   },
   {
    "duration": 66385,
    "start_time": "2024-11-12T22:25:54.443Z"
   },
   {
    "duration": 10,
    "start_time": "2024-11-12T22:35:58.239Z"
   },
   {
    "duration": 1112,
    "start_time": "2024-11-13T06:04:57.493Z"
   },
   {
    "duration": 26,
    "start_time": "2024-11-13T06:04:58.608Z"
   },
   {
    "duration": 24,
    "start_time": "2024-11-13T06:04:58.636Z"
   },
   {
    "duration": 15,
    "start_time": "2024-11-13T06:04:58.662Z"
   },
   {
    "duration": 47,
    "start_time": "2024-11-13T06:04:58.679Z"
   },
   {
    "duration": 5,
    "start_time": "2024-11-13T06:04:58.728Z"
   },
   {
    "duration": 5,
    "start_time": "2024-11-13T06:04:58.735Z"
   },
   {
    "duration": 4,
    "start_time": "2024-11-13T06:04:58.742Z"
   },
   {
    "duration": 75,
    "start_time": "2024-11-13T06:04:58.749Z"
   },
   {
    "duration": 100,
    "start_time": "2024-11-13T06:04:58.827Z"
   },
   {
    "duration": 1360,
    "start_time": "2024-11-13T06:04:58.929Z"
   },
   {
    "duration": 338,
    "start_time": "2024-11-13T06:05:00.291Z"
   },
   {
    "duration": 262,
    "start_time": "2024-11-13T06:05:00.632Z"
   },
   {
    "duration": 114,
    "start_time": "2024-11-13T06:05:00.896Z"
   },
   {
    "duration": 2371,
    "start_time": "2024-11-13T06:05:01.011Z"
   },
   {
    "duration": 231,
    "start_time": "2024-11-13T06:05:03.385Z"
   },
   {
    "duration": 2935,
    "start_time": "2024-11-14T19:31:16.498Z"
   },
   {
    "duration": 0,
    "start_time": "2024-11-14T19:31:19.435Z"
   },
   {
    "duration": 0,
    "start_time": "2024-11-14T19:31:19.436Z"
   },
   {
    "duration": 1,
    "start_time": "2024-11-14T19:31:19.442Z"
   },
   {
    "duration": 0,
    "start_time": "2024-11-14T19:31:19.444Z"
   },
   {
    "duration": 0,
    "start_time": "2024-11-14T19:31:19.445Z"
   },
   {
    "duration": 0,
    "start_time": "2024-11-14T19:31:19.446Z"
   },
   {
    "duration": 0,
    "start_time": "2024-11-14T19:31:19.447Z"
   },
   {
    "duration": 0,
    "start_time": "2024-11-14T19:31:19.448Z"
   },
   {
    "duration": 0,
    "start_time": "2024-11-14T19:31:19.449Z"
   },
   {
    "duration": 0,
    "start_time": "2024-11-14T19:31:19.450Z"
   },
   {
    "duration": 0,
    "start_time": "2024-11-14T19:31:19.451Z"
   },
   {
    "duration": 0,
    "start_time": "2024-11-14T19:31:19.452Z"
   },
   {
    "duration": 0,
    "start_time": "2024-11-14T19:31:19.454Z"
   },
   {
    "duration": 0,
    "start_time": "2024-11-14T19:31:19.454Z"
   },
   {
    "duration": 0,
    "start_time": "2024-11-14T19:31:19.456Z"
   },
   {
    "duration": 22,
    "start_time": "2024-11-14T19:32:05.304Z"
   },
   {
    "duration": 9489,
    "start_time": "2024-11-14T19:35:26.092Z"
   },
   {
    "duration": 1334,
    "start_time": "2024-11-14T19:35:46.386Z"
   },
   {
    "duration": 1224,
    "start_time": "2024-11-14T19:35:47.723Z"
   },
   {
    "duration": 0,
    "start_time": "2024-11-14T19:35:48.949Z"
   },
   {
    "duration": 0,
    "start_time": "2024-11-14T19:35:48.950Z"
   },
   {
    "duration": 0,
    "start_time": "2024-11-14T19:35:48.952Z"
   },
   {
    "duration": 0,
    "start_time": "2024-11-14T19:35:48.954Z"
   },
   {
    "duration": 0,
    "start_time": "2024-11-14T19:35:48.955Z"
   },
   {
    "duration": 0,
    "start_time": "2024-11-14T19:35:48.957Z"
   },
   {
    "duration": 0,
    "start_time": "2024-11-14T19:35:48.958Z"
   },
   {
    "duration": 0,
    "start_time": "2024-11-14T19:35:48.959Z"
   },
   {
    "duration": 1,
    "start_time": "2024-11-14T19:35:48.961Z"
   },
   {
    "duration": 0,
    "start_time": "2024-11-14T19:35:48.963Z"
   },
   {
    "duration": 0,
    "start_time": "2024-11-14T19:35:48.965Z"
   },
   {
    "duration": 0,
    "start_time": "2024-11-14T19:35:48.966Z"
   },
   {
    "duration": 0,
    "start_time": "2024-11-14T19:35:48.968Z"
   },
   {
    "duration": 0,
    "start_time": "2024-11-14T19:35:48.969Z"
   },
   {
    "duration": 0,
    "start_time": "2024-11-14T19:35:48.971Z"
   },
   {
    "duration": 1124,
    "start_time": "2024-11-14T19:42:43.744Z"
   },
   {
    "duration": 28,
    "start_time": "2024-11-14T19:42:44.870Z"
   },
   {
    "duration": 27,
    "start_time": "2024-11-14T19:42:44.899Z"
   },
   {
    "duration": 24,
    "start_time": "2024-11-14T19:42:44.929Z"
   },
   {
    "duration": 25,
    "start_time": "2024-11-14T19:42:44.954Z"
   },
   {
    "duration": 6,
    "start_time": "2024-11-14T19:42:44.980Z"
   },
   {
    "duration": 6,
    "start_time": "2024-11-14T19:42:44.988Z"
   },
   {
    "duration": 5,
    "start_time": "2024-11-14T19:42:44.995Z"
   },
   {
    "duration": 87,
    "start_time": "2024-11-14T19:42:45.001Z"
   },
   {
    "duration": 113,
    "start_time": "2024-11-14T19:42:45.092Z"
   },
   {
    "duration": 1417,
    "start_time": "2024-11-14T19:42:45.207Z"
   },
   {
    "duration": 335,
    "start_time": "2024-11-14T19:42:46.626Z"
   },
   {
    "duration": 354,
    "start_time": "2024-11-14T19:42:46.963Z"
   },
   {
    "duration": 48,
    "start_time": "2024-11-14T19:42:47.319Z"
   },
   {
    "duration": 2467,
    "start_time": "2024-11-14T19:42:47.369Z"
   },
   {
    "duration": 239,
    "start_time": "2024-11-14T19:42:49.838Z"
   },
   {
    "duration": 1036,
    "start_time": "2024-11-14T20:04:02.805Z"
   },
   {
    "duration": 106,
    "start_time": "2024-11-14T20:18:30.052Z"
   },
   {
    "duration": 1213,
    "start_time": "2024-11-14T20:18:51.369Z"
   },
   {
    "duration": 33,
    "start_time": "2024-11-14T20:18:52.586Z"
   },
   {
    "duration": 37,
    "start_time": "2024-11-14T20:18:52.621Z"
   },
   {
    "duration": 29,
    "start_time": "2024-11-14T20:18:52.660Z"
   },
   {
    "duration": 50,
    "start_time": "2024-11-14T20:18:52.691Z"
   },
   {
    "duration": 27,
    "start_time": "2024-11-14T20:18:52.742Z"
   },
   {
    "duration": 21,
    "start_time": "2024-11-14T20:18:52.770Z"
   },
   {
    "duration": 5,
    "start_time": "2024-11-14T20:18:52.793Z"
   },
   {
    "duration": 51,
    "start_time": "2024-11-14T20:18:52.799Z"
   },
   {
    "duration": 108,
    "start_time": "2024-11-14T20:18:52.853Z"
   },
   {
    "duration": 1416,
    "start_time": "2024-11-14T20:18:52.963Z"
   },
   {
    "duration": 401,
    "start_time": "2024-11-14T20:18:54.381Z"
   },
   {
    "duration": 342,
    "start_time": "2024-11-14T20:18:54.784Z"
   },
   {
    "duration": 62,
    "start_time": "2024-11-14T20:18:55.128Z"
   },
   {
    "duration": 2451,
    "start_time": "2024-11-14T20:18:55.192Z"
   },
   {
    "duration": 116,
    "start_time": "2024-11-14T20:18:57.645Z"
   },
   {
    "duration": 1124,
    "start_time": "2024-11-14T20:19:51.071Z"
   },
   {
    "duration": 31,
    "start_time": "2024-11-14T20:19:52.197Z"
   },
   {
    "duration": 28,
    "start_time": "2024-11-14T20:19:52.243Z"
   },
   {
    "duration": 14,
    "start_time": "2024-11-14T20:19:52.275Z"
   },
   {
    "duration": 51,
    "start_time": "2024-11-14T20:19:52.292Z"
   },
   {
    "duration": 8,
    "start_time": "2024-11-14T20:19:52.345Z"
   },
   {
    "duration": 6,
    "start_time": "2024-11-14T20:19:52.356Z"
   },
   {
    "duration": 6,
    "start_time": "2024-11-14T20:19:52.364Z"
   },
   {
    "duration": 86,
    "start_time": "2024-11-14T20:19:52.372Z"
   },
   {
    "duration": 115,
    "start_time": "2024-11-14T20:19:52.462Z"
   },
   {
    "duration": 1480,
    "start_time": "2024-11-14T20:19:52.579Z"
   },
   {
    "duration": 331,
    "start_time": "2024-11-14T20:19:54.061Z"
   },
   {
    "duration": 271,
    "start_time": "2024-11-14T20:19:54.394Z"
   },
   {
    "duration": 138,
    "start_time": "2024-11-14T20:19:54.667Z"
   },
   {
    "duration": 2512,
    "start_time": "2024-11-14T20:19:54.807Z"
   },
   {
    "duration": 38,
    "start_time": "2024-11-14T20:19:57.321Z"
   },
   {
    "duration": 1084,
    "start_time": "2024-11-14T21:02:04.179Z"
   },
   {
    "duration": 27,
    "start_time": "2024-11-14T21:02:05.264Z"
   },
   {
    "duration": 28,
    "start_time": "2024-11-14T21:02:05.293Z"
   },
   {
    "duration": 15,
    "start_time": "2024-11-14T21:02:05.323Z"
   },
   {
    "duration": 50,
    "start_time": "2024-11-14T21:02:05.340Z"
   },
   {
    "duration": 5,
    "start_time": "2024-11-14T21:02:05.392Z"
   },
   {
    "duration": 6,
    "start_time": "2024-11-14T21:02:05.399Z"
   },
   {
    "duration": 5,
    "start_time": "2024-11-14T21:02:05.406Z"
   },
   {
    "duration": 78,
    "start_time": "2024-11-14T21:02:05.413Z"
   },
   {
    "duration": 99,
    "start_time": "2024-11-14T21:02:05.494Z"
   },
   {
    "duration": 1344,
    "start_time": "2024-11-14T21:02:05.595Z"
   },
   {
    "duration": 355,
    "start_time": "2024-11-14T21:02:06.941Z"
   },
   {
    "duration": 252,
    "start_time": "2024-11-14T21:02:07.298Z"
   },
   {
    "duration": 112,
    "start_time": "2024-11-14T21:02:07.552Z"
   },
   {
    "duration": 2402,
    "start_time": "2024-11-14T21:02:07.666Z"
   },
   {
    "duration": 27,
    "start_time": "2024-11-14T21:02:10.070Z"
   }
  ],
  "kernelspec": {
   "display_name": "Python 3 (ipykernel)",
   "language": "python",
   "name": "python3"
  },
  "language_info": {
   "codemirror_mode": {
    "name": "ipython",
    "version": 3
   },
   "file_extension": ".py",
   "mimetype": "text/x-python",
   "name": "python",
   "nbconvert_exporter": "python",
   "pygments_lexer": "ipython3",
   "version": "3.9.19"
  },
  "toc": {
   "base_numbering": 1,
   "nav_menu": {},
   "number_sections": true,
   "sideBar": true,
   "skip_h1_title": true,
   "title_cell": "Table of Contents",
   "title_sidebar": "Contents",
   "toc_cell": false,
   "toc_position": {},
   "toc_section_display": true,
   "toc_window_display": true
  }
 },
 "nbformat": 4,
 "nbformat_minor": 2
}
